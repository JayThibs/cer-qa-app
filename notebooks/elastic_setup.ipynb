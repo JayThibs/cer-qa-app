{
 "cells": [
  {
   "cell_type": "code",
   "execution_count": 12,
   "metadata": {},
   "outputs": [],
   "source": [
    "import requests\n",
    "import glob\n",
    "from haystack.utils import launch_es\n",
    "from haystack.document_store.elasticsearch import ElasticsearchDocumentStore\n",
    "from haystack.retriever import ElasticsearchRetriever"
   ]
  },
  {
   "cell_type": "code",
   "execution_count": 13,
   "metadata": {},
   "outputs": [],
   "source": [
    "using_docker = False"
   ]
  },
  {
   "cell_type": "code",
   "execution_count": 14,
   "metadata": {},
   "outputs": [
    {
     "name": "stdout",
     "output_type": "stream",
     "text": [
      "{'cluster_name': 'elasticsearch', 'status': 'yellow', 'timed_out': False, 'number_of_nodes': 1, 'number_of_data_nodes': 1, 'active_primary_shards': 3, 'active_shards': 3, 'relocating_shards': 0, 'initializing_shards': 0, 'unassigned_shards': 2, 'delayed_unassigned_shards': 0, 'number_of_pending_tasks': 0, 'number_of_in_flight_fetch': 0, 'task_max_waiting_in_queue_millis': 0, 'active_shards_percent_as_number': 60.0}\n",
      "green  open .geoip_databases J2mGiSVZTZGo4TCTl2vdMQ 1 0 43 0 40.9mb 40.9mb\n",
      "yellow open esa              mcug3YjSRdWlw659JUCpnw 1 1  0 0   208b   208b\n",
      "yellow open label            BrYFSF4bRAKNLi06aDrP9Q 1 1  0 0   208b   208b\n",
      "\n"
     ]
    }
   ],
   "source": [
    "if using_docker == True:\n",
    "    # Launch Elasticsearch using Haystack's docker image\n",
    "    # Need to increase docker size to be at least 4 GB to use,\n",
    "    # see here for info: https://www.elastic.co/blog/a-full-stack-in-one-command\n",
    "    launch_es()\n",
    "else:\n",
    "    # If already launched elasticsearch via command prompt\n",
    "    # To install elasticsearch and start it, see here: https://www.elastic.co/downloads/elasticsearch\n",
    "    print(requests.get('http://localhost:9200/_cluster/health?wait_for_status=yellow&timeout=30s').json())\n",
    "    print(requests.get('http://localhost:9200/_cat/indices').text)"
   ]
  },
  {
   "cell_type": "code",
   "execution_count": 15,
   "metadata": {},
   "outputs": [
    {
     "name": "stderr",
     "output_type": "stream",
     "text": [
      "C:\\Users\\ThibJacq\\Anaconda3\\envs\\cer-qa\\lib\\site-packages\\elasticsearch\\connection\\base.py:190: ElasticsearchDeprecationWarning: Elasticsearch built-in security features are not enabled. Without authentication, your cluster could be accessible to anyone. See https://www.elastic.co/guide/en/elasticsearch/reference/7.15/security-minimal-setup.html to enable security.\n",
      "  warnings.warn(message, category=ElasticsearchDeprecationWarning)\n",
      "12/02/2021 12:21:39 - INFO - elasticsearch -   HEAD http://localhost:9200/ [status:200 request:0.007s]\n",
      "12/02/2021 12:21:39 - INFO - elasticsearch -   HEAD http://localhost:9200/esa [status:200 request:0.003s]\n",
      "12/02/2021 12:21:39 - INFO - elasticsearch -   GET http://localhost:9200/esa [status:200 request:0.002s]\n",
      "12/02/2021 12:21:39 - INFO - elasticsearch -   PUT http://localhost:9200/esa/_mapping [status:200 request:0.012s]\n",
      "12/02/2021 12:21:39 - INFO - elasticsearch -   HEAD http://localhost:9200/label [status:200 request:0.002s]\n"
     ]
    }
   ],
   "source": [
    "doc_store = ElasticsearchDocumentStore(\n",
    "    host=['localhost'],\n",
    "    username='',\n",
    "    password='',\n",
    "    index='esa'\n",
    "    )"
   ]
  },
  {
   "cell_type": "code",
   "execution_count": null,
   "metadata": {},
   "outputs": [],
   "source": [
    "## TODO: glob.glob('*.pkl')\n",
    "\n",
    "for pdf_id in \n",
    "with open(f'../data/interim/pickled_pdfs/{pdf_id}.pkl', 'rb') as f:\n",
    "    doc_store.add_document(f.read(), pdf_id=pdf_id)"
   ]
  }
 ],
 "metadata": {
  "interpreter": {
   "hash": "650e0a9f8e645d41a9d288f15f44e905b29facd5817dce55bfb761d50a6f0cbe"
  },
  "kernelspec": {
   "display_name": "Python 3.7.11 64-bit ('cer-qa': conda)",
   "name": "python3"
  },
  "language_info": {
   "codemirror_mode": {
    "name": "ipython",
    "version": 3
   },
   "file_extension": ".py",
   "mimetype": "text/x-python",
   "name": "python",
   "nbconvert_exporter": "python",
   "pygments_lexer": "ipython3",
   "version": "3.7.11"
  },
  "orig_nbformat": 4
 },
 "nbformat": 4,
 "nbformat_minor": 2
}
