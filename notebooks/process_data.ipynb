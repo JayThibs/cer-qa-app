{
 "cells": [
  {
   "cell_type": "markdown",
   "metadata": {},
   "source": [
    "# Process Data\n",
    "\n",
    "Important: Before running this notebook, make sure that you have downloaded the data from RegDocs (or you have pickled the PDFs and placed them in `data/interim/pickled_pdfs`.)\n",
    "\n",
    "This notebook will grab the text from each PDF, do some preprocessing so that the data is clean to use with elasticsearch and haystack, and then store the pieces of texts in `data/processed/pdf_texts` so that we can grab the text for question-answering."
   ]
  },
  {
   "cell_type": "markdown",
   "metadata": {},
   "source": []
  }
 ],
 "metadata": {
  "language_info": {
   "name": "python"
  },
  "orig_nbformat": 4
 },
 "nbformat": 4,
 "nbformat_minor": 2
}
