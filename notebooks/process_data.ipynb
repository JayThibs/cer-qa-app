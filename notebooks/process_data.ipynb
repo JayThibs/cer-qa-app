{
 "cells": [
  {
   "cell_type": "markdown",
   "metadata": {},
   "source": [
    "# Process Data\n",
    "\n",
    "Important: Before running this notebook, make sure that you have downloaded the data from RegDocs (or you have pickled the PDFs and placed them in `data/interim/pickled_pdfs`.)\n",
    "\n",
    "This notebook will grab the text from each PDF, do some preprocessing so that the data is clean to use with elasticsearch and haystack, and then store the pieces of texts in `data/processed/pdf_texts` so that we can grab the text for question-answering."
   ]
  },
  {
   "cell_type": "code",
   "execution_count": 1,
   "metadata": {},
   "outputs": [
    {
     "name": "stderr",
     "output_type": "stream",
     "text": [
      "C:\\Users\\ThibJacq\\Anaconda3\\envs\\cer-qa\\lib\\site-packages\\ray\\autoscaler\\_private\\cli_logger.py:61: FutureWarning: Not all Ray CLI dependencies were found. In Ray 1.4+, the Ray CLI, autoscaler, and dashboard will only be usable via `pip install 'ray[default]'`. Please update your install command.\n",
      "  \"update your install command.\", FutureWarning)\n",
      "C:\\Users\\ThibJacq\\Anaconda3\\envs\\cer-qa\\lib\\site-packages\\torchaudio\\extension\\extension.py:13: UserWarning: torchaudio C++ extension is not available.\n",
      "  warnings.warn('torchaudio C++ extension is not available.')\n",
      "C:\\Users\\ThibJacq\\Anaconda3\\envs\\cer-qa\\lib\\site-packages\\torchaudio\\backend\\utils.py:89: UserWarning: No audio backend is available.\n",
      "  warnings.warn('No audio backend is available.')\n"
     ]
    },
    {
     "ename": "ImportError",
     "evalue": "cannot import name 'clean_wiki_text' from 'haystack.utils' (C:\\Users\\ThibJacq\\Anaconda3\\envs\\cer-qa\\lib\\site-packages\\haystack\\utils.py)",
     "output_type": "error",
     "traceback": [
      "\u001b[1;31m---------------------------------------------------------------------------\u001b[0m",
      "\u001b[1;31mImportError\u001b[0m                               Traceback (most recent call last)",
      "\u001b[1;32m~\\AppData\\Local\\Temp/ipykernel_2328/1914020109.py\u001b[0m in \u001b[0;36m<module>\u001b[1;34m\u001b[0m\n\u001b[1;32m----> 1\u001b[1;33m \u001b[1;32mfrom\u001b[0m \u001b[0mhaystack\u001b[0m\u001b[1;33m.\u001b[0m\u001b[0mutils\u001b[0m \u001b[1;32mimport\u001b[0m \u001b[0mclean_wiki_text\u001b[0m\u001b[1;33m,\u001b[0m \u001b[0mconvert_files_to_dicts\u001b[0m\u001b[1;33m,\u001b[0m \u001b[0mfetch_archive_from_http\u001b[0m\u001b[1;33m,\u001b[0m \u001b[0mprint_answers\u001b[0m\u001b[1;33m\u001b[0m\u001b[1;33m\u001b[0m\u001b[0m\n\u001b[0m\u001b[0;32m      2\u001b[0m \u001b[1;32mfrom\u001b[0m \u001b[0mhaystack\u001b[0m\u001b[1;33m.\u001b[0m\u001b[0mnodes\u001b[0m \u001b[1;32mimport\u001b[0m \u001b[0mFARMReader\u001b[0m\u001b[1;33m,\u001b[0m \u001b[0mTransformersReader\u001b[0m\u001b[1;33m\u001b[0m\u001b[1;33m\u001b[0m\u001b[0m\n",
      "\u001b[1;31mImportError\u001b[0m: cannot import name 'clean_wiki_text' from 'haystack.utils' (C:\\Users\\ThibJacq\\Anaconda3\\envs\\cer-qa\\lib\\site-packages\\haystack\\utils.py)"
     ]
    }
   ],
   "source": [
    "from haystack.utils import clean_wiki_text, convert_files_to_dicts, fetch_archive_from_http, print_answers\n",
    "from haystack.nodes import FARMReader, TransformersReader"
   ]
  },
  {
   "cell_type": "code",
   "execution_count": null,
   "metadata": {},
   "outputs": [],
   "source": []
  }
 ],
 "metadata": {
  "interpreter": {
   "hash": "650e0a9f8e645d41a9d288f15f44e905b29facd5817dce55bfb761d50a6f0cbe"
  },
  "kernelspec": {
   "display_name": "Python 3.7.11 64-bit ('cer-qa': conda)",
   "language": "python",
   "name": "python3"
  },
  "language_info": {
   "codemirror_mode": {
    "name": "ipython",
    "version": 3
   },
   "file_extension": ".py",
   "mimetype": "text/x-python",
   "name": "python",
   "nbconvert_exporter": "python",
   "pygments_lexer": "ipython3",
   "version": "3.7.11"
  },
  "orig_nbformat": 4
 },
 "nbformat": 4,
 "nbformat_minor": 2
}
